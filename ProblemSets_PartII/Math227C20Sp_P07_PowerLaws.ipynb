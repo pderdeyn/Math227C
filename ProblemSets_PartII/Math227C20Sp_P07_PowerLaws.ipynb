{
 "cells": [
  {
   "cell_type": "markdown",
   "metadata": {},
   "source": [
    "# Math 227C Problem Set 7"
   ]
  },
  {
   "cell_type": "markdown",
   "metadata": {},
   "source": [
    "How does the size of the mitochondria in a cell depend on the size of the cell itself?"
   ]
  },
  {
   "cell_type": "code",
   "execution_count": 2,
   "metadata": {},
   "outputs": [
    {
     "data": {
      "image/png": "[encoded data removed]",
      "text/plain": [
       "plot without title"
      ]
     },
     "metadata": {
      "image/png": {
       "height": 180,
       "width": 240
      }
     },
     "output_type": "display_data"
    }
   ],
   "source": [
    "# plot settings\n",
    "options(repr.plot.width=4, repr.plot.height=3)\n",
    "\n",
    "# Simulate power-law data\n",
    "\n",
    "N <- 30\n",
    "alpha <- 2.3\n",
    "Y0 <- 100\n",
    "sigma <- 500\n",
    "\n",
    "CellSize <- runif(N,3,10) # independent variable\n",
    "eps <- rnorm(N,0,sigma) # residuals\n",
    "\n",
    "MitoSize <- Y0*CellSize^alpha + eps\n",
    "\n",
    "plot(CellSize,MitoSize)"
   ]
  },
  {
   "cell_type": "markdown",
   "metadata": {},
   "source": [
    "## Part 1 \n",
    "\n",
    "__(a)__ Use nonlinear least squares (nls) to estimate the parameter $\\alpha$ from the simulated data."
   ]
  },
  {
   "cell_type": "code",
   "execution_count": 6,
   "metadata": {},
   "outputs": [
    {
     "data": {
      "text/html": [
       "<style>\n",
       ".dl-inline {width: auto; margin:0; padding: 0}\n",
       ".dl-inline>dt, .dl-inline>dd {float: none; width: auto; display: inline-block}\n",
       ".dl-inline>dt::after {content: \":\\0020\"; padding-right: .5ex}\n",
       ".dl-inline>dt:not(:first-of-type) {padding-left: .5ex}\n",
       "</style><dl class=dl-inline><dt>b</dt><dd>121.864894161627</dd><dt>a</dt><dd>2.20887461974384</dd></dl>\n"
      ],
      "text/latex": [
       "\\begin{description*}\n",
       "\\item[b] 121.864894161627\n",
       "\\item[a] 2.20887461974384\n",
       "\\end{description*}\n"
      ],
      "text/markdown": [
       "b\n",
       ":   121.864894161627a\n",
       ":   2.20887461974384\n",
       "\n"
      ],
      "text/plain": [
       "         b          a \n",
       "121.864894   2.208875 "
      ]
     },
     "metadata": {},
     "output_type": "display_data"
    },
    {
     "data": {
      "image/png": "[encoded data removed]",
      "text/plain": [
       "plot without title"
      ]
     },
     "metadata": {
      "image/png": {
       "height": 180,
       "width": 240
      }
     },
     "output_type": "display_data"
    }
   ],
   "source": [
    "modelMitoSize <- nls(MitoSize~b*CellSize^a, start=list(b=1,a=5))\n",
    "coef(modelMitoSize) # show coefficients\n",
    "\n",
    "plot(CellSize,MitoSize)\n",
    "# plot model prediction\n",
    "cellSizeAxis <- seq(0,10,length=100)\n",
    "b <- coef(modelMitoSize)[1]\n",
    "a <- coef(modelMitoSize)[2]\n",
    "mitoSizePrediction <- b*cellSizeAxis^a\n",
    "\n",
    "lines(cellSizeAxis,mitoSizePrediction,col=\"red\",lty=2,lwd=3)"
   ]
  },
  {
   "cell_type": "code",
   "execution_count": 19,
   "metadata": {},
   "outputs": [
    {
     "data": {
      "text/html": [
       "2.20887461974384"
      ],
      "text/latex": [
       "2.20887461974384"
      ],
      "text/markdown": [
       "2.20887461974384"
      ],
      "text/plain": [
       "[1] 2.208875"
      ]
     },
     "metadata": {},
     "output_type": "display_data"
    }
   ],
   "source": [
    "coef(modelMitoSize)[[a]]"
   ]
  },
  {
   "cell_type": "markdown",
   "metadata": {},
   "source": [
    "Define the __error__ as $e=|\\hat{\\alpha}-\\alpha|$ where $\\hat{\\alpha}$ is the estimate and $\\alpha$ is the true value (which is known because this is simualted data). \n",
    "\n",
    "__(b)__ Write a function to execute the simulation and nls fitting, taking in the true model parameters $\\alpha, y_0, \\sigma$ and the sample size $N$. Plot the error in $\\alpha$ estimation, $e$, as a function of the magnitude of the noise, $\\sigma$, for a range of $\\sigma=(100,2000)$. "
   ]
  },
  {
   "cell_type": "code",
   "execution_count": 49,
   "metadata": {},
   "outputs": [],
   "source": [
    "nlssimulation <- function(alpha,y0,sigma,N) {\n",
    "    CellSize <- runif(N,3,10) # independent variable\n",
    "    eps <- rnorm(N,0,sigma) # residuals\n",
    "    MitoSize <- Y0*CellSize^alpha + eps\n",
    "    modelMitoSize <- nls(MitoSize~b*CellSize^a, start=list(b=1,a=5))\n",
    "    return(coef(modelMitoSize)[[a]])\n",
    "}\n",
    "nlserror<-c()\n",
    "sigmalist <- seq(100,2000,length=100)\n",
    "for (s in sigmalist)\n",
    "{\n",
    "    ahat<-nlssimulation(alpha,y0,s,N)\n",
    "    e=abs(alpha-ahat)\n",
    "    nlserror=append(nlserror,e)\n",
    "}"
   ]
  },
  {
   "cell_type": "markdown",
   "metadata": {},
   "source": [
    "## Part 2\n",
    "\n",
    "__(a)__ Transform the simulated data to $lY = \\mbox{log}(y)$ and $lX = \\mbox{log}(x)$. Use linear regression model fit (lm) to estimate the parameter $\\alpha$ from the simulated data."
   ]
  },
  {
   "cell_type": "code",
   "execution_count": 35,
   "metadata": {},
   "outputs": [
    {
     "data": {
      "text/html": [
       "<strong>logCellSize:</strong> 2.44008135979964"
      ],
      "text/latex": [
       "\\textbf{logCellSize:} 2.44008135979964"
      ],
      "text/markdown": [
       "**logCellSize:** 2.44008135979964"
      ],
      "text/plain": [
       "logCellSize \n",
       "   2.440081 "
      ]
     },
     "metadata": {},
     "output_type": "display_data"
    },
    {
     "data": {
      "image/png": "[encoded data removed]",
      "text/plain": [
       "plot without title"
      ]
     },
     "metadata": {
      "image/png": {
       "height": 180,
       "width": 240
      }
     },
     "output_type": "display_data"
    }
   ],
   "source": [
    "logMitoSize <- log(MitoSize)\n",
    "logCellSize <- log(CellSize)\n",
    "linearModel = lm(logMitoSize~logCellSize)\n",
    "\n",
    "coef(linearModel)['logCellSize']\n",
    "# plot residuals\n",
    "plot(logCellSize,resid(linearModel))\n",
    "abline(0,0)"
   ]
  },
  {
   "cell_type": "markdown",
   "metadata": {},
   "source": [
    "__(b)__ Write a function that executes the simulation, log-transforms the data, and performs linear regression fitting. Plot the error in $\\alpha$ estimation, $e$, as a function of the magnitude of the noise, $\\sigma$, for a range of $\\sigma=(100,2000)$. \n",
    "\n",
    "Note you may need additional code to handle negative measurements.\n",
    "\n",
    "__(c)__ Overplot the error in $\\alpha$ from nls and the error from lm (as functions of $\\sigma$). "
   ]
  },
  {
   "cell_type": "code",
   "execution_count": 38,
   "metadata": {},
   "outputs": [
    {
     "name": "stderr",
     "output_type": "stream",
     "text": [
      "Warning message in log(MitoSize):\n",
      "\"NaNs produced\"\n",
      "Warning message in log(MitoSize):\n",
      "\"NaNs produced\"\n",
      "Warning message in log(MitoSize):\n",
      "\"NaNs produced\"\n",
      "Warning message in log(MitoSize):\n",
      "\"NaNs produced\"\n",
      "Warning message in log(MitoSize):\n",
      "\"NaNs produced\"\n",
      "Warning message in log(MitoSize):\n",
      "\"NaNs produced\"\n",
      "Warning message in log(MitoSize):\n",
      "\"NaNs produced\"\n",
      "Warning message in log(MitoSize):\n",
      "\"NaNs produced\"\n",
      "Warning message in log(MitoSize):\n",
      "\"NaNs produced\"\n",
      "Warning message in log(MitoSize):\n",
      "\"NaNs produced\"\n",
      "Warning message in log(MitoSize):\n",
      "\"NaNs produced\"\n",
      "Warning message in log(MitoSize):\n",
      "\"NaNs produced\"\n",
      "Warning message in log(MitoSize):\n",
      "\"NaNs produced\"\n",
      "Warning message in log(MitoSize):\n",
      "\"NaNs produced\"\n",
      "Warning message in log(MitoSize):\n",
      "\"NaNs produced\"\n",
      "Warning message in log(MitoSize):\n",
      "\"NaNs produced\"\n",
      "Warning message in log(MitoSize):\n",
      "\"NaNs produced\"\n",
      "Warning message in log(MitoSize):\n",
      "\"NaNs produced\"\n",
      "Warning message in log(MitoSize):\n",
      "\"NaNs produced\"\n",
      "Warning message in log(MitoSize):\n",
      "\"NaNs produced\"\n",
      "Warning message in log(MitoSize):\n",
      "\"NaNs produced\"\n",
      "Warning message in log(MitoSize):\n",
      "\"NaNs produced\"\n",
      "Warning message in log(MitoSize):\n",
      "\"NaNs produced\"\n"
     ]
    }
   ],
   "source": [
    "lmsimulation <- function(alpha,y0,sigma,N) {\n",
    "    CellSize <- runif(N,3,10) # independent variable\n",
    "    eps <- rnorm(N,0,sigma) # residuals\n",
    "    MitoSize <- Y0*CellSize^alpha + eps\n",
    "    logMitoSize <- log(MitoSize)\n",
    "    logCellSize <- log(CellSize)\n",
    "    linearModel = lm(logMitoSize~logCellSize)\n",
    "    return(coef(linearModel)[['logCellSize']])\n",
    "}\n",
    "lmerror<-c()\n",
    "sigmalist <- seq(100,2000,length=100)\n",
    "for (s in sigmalist)\n",
    "{\n",
    "    ahat<-lmsimulation(alpha,y0,s,N)\n",
    "    e=abs(alpha-ahat)\n",
    "    lmerror=append(lmerror,e)\n",
    "}"
   ]
  },
  {
   "cell_type": "code",
   "execution_count": 80,
   "metadata": {},
   "outputs": [
    {
     "data": {
      "image/png": "[encoded data removed]",
      "text/plain": [
       "plot without title"
      ]
     },
     "metadata": {
      "image/png": {
       "height": 360,
       "width": 480
      }
     },
     "output_type": "display_data"
    }
   ],
   "source": [
    "options(repr.plot.width=8,repr.plot.height=6)\n",
    "plot(sigmalist,lmerror,col='red',pch=19,xlab='sigma',ylab='error')\n",
    "points(sigmalist,nlserror,col='blue',pch=19)\n",
    "legend(100,1,legend=c(\"linear model\",\"nls model\"),col=c(\"red\",\"blue\"),bty='o',pch=c(19,19))"
   ]
  },
  {
   "cell_type": "markdown",
   "metadata": {},
   "source": [
    "## Part 3\n",
    "\n",
    "In the above simulations, the independent variable $X$ was chosen from a uniform distribution.\n",
    "\n",
    "__(a)__ Find a distribution of $X$ data that makes a very big difference between error from nls and error from lm.\n",
    "\n",
    "__(b)__ Find a distribution of $X$ data that makes a very small difference between the error from nls and error from lm."
   ]
  },
  {
   "cell_type": "code",
   "execution_count": null,
   "metadata": {},
   "outputs": [],
   "source": []
  }
 ],
 "metadata": {
  "kernelspec": {
   "display_name": "R",
   "language": "R",
   "name": "ir"
  },
  "language_info": {
   "codemirror_mode": "r",
   "file_extension": ".r",
   "mimetype": "text/x-r-source",
   "name": "R",
   "pygments_lexer": "r",
   "version": "3.6.3"
  }
 },
 "nbformat": 4,
 "nbformat_minor": 2
}
