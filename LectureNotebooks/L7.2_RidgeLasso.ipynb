{
 "cells": [
  {
   "cell_type": "markdown",
   "metadata": {},
   "source": [
    "## L7.2 High-dimensional data: Ridge and Lasso"
   ]
  },
  {
   "cell_type": "code",
   "execution_count": null,
   "metadata": {},
   "outputs": [],
   "source": [
    "# plot settings\n",
    "options(repr.plot.width=8, repr.plot.height=6)\n",
    "\n",
    "library(\"glmnet\")"
   ]
  },
  {
   "cell_type": "code",
   "execution_count": null,
   "metadata": {},
   "outputs": [],
   "source": [
    "load(\"QuickStartExample.RData\") # This data comes from the glmnet authors\n",
    "\n",
    "# the data has 20 predictor variables.\n",
    "# artificially construct an example where we are underconstrained. \n",
    "y <- head(y,19)\n",
    "x <- head(x,19)\n",
    "\n",
    "# do a linear fit with lm\n",
    "lm(y ~ x)"
   ]
  },
  {
   "cell_type": "markdown",
   "metadata": {},
   "source": [
    "## Linear regression with \"Ridge\"\n",
    "\n",
    "The function glmnet with alpha=0 will perform linear regression that maximizes the function\n",
    "\n",
    "$$\\mbox{log}\\left(L(\\beta)\\right) + \\lambda \\sum_i  \\beta_i ^2$$\n",
    "\n",
    "where $L$ is the likelihood function. Conveniently, it performs this regression for many values of $\\lambda$ at once.\n"
   ]
  },
  {
   "cell_type": "code",
   "execution_count": null,
   "metadata": {},
   "outputs": [],
   "source": [
    "# do a fit with glmnet, which performs a linear fit\n",
    "\n",
    "lambdaArray <- exp(seq(-8,5,length=200))\n",
    "\n",
    "ridgeFit <- glmnet(x, y, alpha=0,lambda=lambdaArray)\n",
    "\n",
    "# coefficients versus lambda\n",
    "plot(ridgeFit, xvar = \"lambda\", label = TRUE)"
   ]
  },
  {
   "cell_type": "markdown",
   "metadata": {},
   "source": [
    "## Linear regression with \"Lasso\"\n",
    "\n",
    "The function glmnet with alpha=1 will perform linear regression that maximizes the function\n",
    "\n",
    "$$\\mbox{log}\\left(L(\\beta)\\right) + \\lambda \\sum_i | \\beta_i |$$\n",
    "\n",
    "where $L$ is the likelihood function.\n"
   ]
  },
  {
   "cell_type": "code",
   "execution_count": null,
   "metadata": {},
   "outputs": [],
   "source": [
    "# do a fit with glmnet, which performs a linear fit\n",
    "lassoFit = glmnet(x, y, alpha=1)\n",
    "\n",
    "plot(lassoFit, xvar = \"lambda\", label = TRUE)"
   ]
  },
  {
   "cell_type": "markdown",
   "metadata": {},
   "source": [
    "We can choose the lambda value using cross-validation. \n",
    "\n",
    "Note high values of lambda correspond to simpler models (fewer parameters) while lower values of lambda correspond to more complex models (more parameters)."
   ]
  },
  {
   "cell_type": "code",
   "execution_count": null,
   "metadata": {},
   "outputs": [],
   "source": [
    "crossValidationOutput <- cv.glmnet(x, y, alpha=1, grouped=FALSE)\n",
    "\n",
    "plot(crossValidationOutput)"
   ]
  }
 ],
 "metadata": {
  "kernelspec": {
   "display_name": "R",
   "language": "R",
   "name": "ir"
  },
  "language_info": {
   "codemirror_mode": "r",
   "file_extension": ".r",
   "mimetype": "text/x-r-source",
   "name": "R",
   "pygments_lexer": "r",
   "version": "3.6.1"
  }
 },
 "nbformat": 4,
 "nbformat_minor": 2
}
